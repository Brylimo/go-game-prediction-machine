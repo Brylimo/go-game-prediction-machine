{
  "nbformat": 4,
  "nbformat_minor": 0,
  "metadata": {
    "colab": {
      "name": "prediction-machine.ipynb",
      "provenance": [],
      "collapsed_sections": [
        "qHC4aY0DUNO3"
      ],
      "include_colab_link": true
    },
    "kernelspec": {
      "name": "python3",
      "display_name": "Python 3"
    },
    "language_info": {
      "name": "python"
    }
  },
  "cells": [
    {
      "cell_type": "markdown",
      "metadata": {
        "id": "view-in-github",
        "colab_type": "text"
      },
      "source": [
        "<a href=\"https://colab.research.google.com/github/Brylimo/go-game-ranking-prediction-machine/blob/master/prediction_machine.ipynb\" target=\"_parent\"><img src=\"https://colab.research.google.com/assets/colab-badge.svg\" alt=\"Open In Colab\"/></a>"
      ]
    },
    {
      "cell_type": "code",
      "metadata": {
        "colab": {
          "base_uri": "https://localhost:8080/"
        },
        "id": "Z1ekgDsG3f1t",
        "outputId": "e8caf230-cae3-42b4-aee1-4a085a3b12ef"
      },
      "source": [
        "import numpy as np\n",
        "from google.colab import drive\n",
        "\n",
        "#load train data and label\n",
        "drive.mount('/content/drive')\n",
        "train_data_path = \"/content/drive/Shareddrives/기계학습5조/colab_data/baduk/train_data.npy\" # Your train data file\n",
        "train_label_path = \"/content/drive/Shareddrives/기계학습5조/colab_data/baduk/train_label.npy\" # Your train label file\n",
        "\n",
        "train_data = np.load(train_data_path, allow_pickle=True)\n",
        "train_label_rawdata = np.load(train_label_path, allow_pickle=True)  \n",
        "\n",
        "num_train_data = len(train_data)"
      ],
      "execution_count": 2,
      "outputs": [
        {
          "output_type": "stream",
          "text": [
            "Drive already mounted at /content/drive; to attempt to forcibly remount, call drive.mount(\"/content/drive\", force_remount=True).\n"
          ],
          "name": "stdout"
        }
      ]
    },
    {
      "cell_type": "code",
      "metadata": {
        "colab": {
          "base_uri": "https://localhost:8080/"
        },
        "id": "zi_CRigwB1Ed",
        "outputId": "2d4f3d9a-b975-4754-a991-1804956b03cd"
      },
      "source": [
        "print(train_data.shape) # train_data is a list"
      ],
      "execution_count": 3,
      "outputs": [
        {
          "output_type": "stream",
          "text": [
            "(2682,)\n"
          ],
          "name": "stdout"
        }
      ]
    },
    {
      "cell_type": "code",
      "metadata": {
        "id": "8FhEZ7YnAR-h",
        "colab": {
          "base_uri": "https://localhost:8080/"
        },
        "outputId": "388adf46-04d2-485c-a886-fe10b0c40649"
      },
      "source": [
        "#check data shape\n",
        "print(len(train_data[0]))\n",
        "print(train_data[0][0].shape)"
      ],
      "execution_count": 4,
      "outputs": [
        {
          "output_type": "stream",
          "text": [
            "265\n",
            "(1, 19, 19)\n"
          ],
          "name": "stdout"
        }
      ]
    },
    {
      "cell_type": "code",
      "metadata": {
        "id": "VOw8FCFHAFn9",
        "colab": {
          "base_uri": "https://localhost:8080/"
        },
        "outputId": "ca9621ca-de9c-4b36-9adf-8b00d6001266"
      },
      "source": [
        "print(len(train_data[1]))\n",
        "print(train_data[1][0].shape)"
      ],
      "execution_count": 5,
      "outputs": [
        {
          "output_type": "stream",
          "text": [
            "245\n",
            "(1, 19, 19)\n"
          ],
          "name": "stdout"
        }
      ]
    },
    {
      "cell_type": "code",
      "metadata": {
        "id": "9q4L1DyqB8m5",
        "colab": {
          "base_uri": "https://localhost:8080/"
        },
        "outputId": "51d580ad-ec5b-4d9d-9358-c35a4ea6917d"
      },
      "source": [
        "print(len(train_data[2]))\n",
        "print(train_data[2][0].shape)"
      ],
      "execution_count": 6,
      "outputs": [
        {
          "output_type": "stream",
          "text": [
            "246\n",
            "(1, 19, 19)\n"
          ],
          "name": "stdout"
        }
      ]
    },
    {
      "cell_type": "code",
      "metadata": {
        "id": "P-EJKtjVBqGa",
        "colab": {
          "base_uri": "https://localhost:8080/"
        },
        "outputId": "aca3218d-1602-400f-a61f-7fb264f862b6"
      },
      "source": [
        "# Get last baduk data of first game (바둑경기 전체 수순에서 마지막 바둑판의 장면)\n",
        "teamp_last_data = train_data[0][-1]\n",
        "print(teamp_last_data) # 1 denotes a black stone. -1 denotes a white stone. 0 denotes an empty position."
      ],
      "execution_count": 7,
      "outputs": [
        {
          "output_type": "stream",
          "text": [
            "[[[ 0  0  0 -1  0  1  0  0  0  0  0  0 -1 -1 -1  1  1  0  1]\n",
            "  [ 0 -1 -1  0 -1  1 -1  1 -1 -1  0 -1  0 -1  0 -1  1  1  0]\n",
            "  [-1  0 -1 -1  1  0  1  1 -1  1 -1 -1 -1  0  0 -1  1 -1  1]\n",
            "  [ 0 -1  1  1  1  1  0  0 -1  1  1  1 -1 -1 -1  1  1 -1 -1]\n",
            "  [ 0  1  1  0  0  0  0  1 -1 -1  1  1  1  1  1  1 -1 -1  0]\n",
            "  [ 0  0  0  0  0  0  0  1  1 -1 -1  1  1 -1  1  1 -1 -1 -1]\n",
            "  [ 0  0  0  0  0  1  1 -1 -1  1 -1 -1 -1 -1  1  1  1 -1  0]\n",
            "  [ 0  0  0  0  0  1 -1  0 -1  0  1  1  0 -1 -1  1 -1  0 -1]\n",
            "  [ 0  0  1 -1 -1  1 -1  1 -1  1  0  1 -1  0  1 -1 -1  0  0]\n",
            "  [ 0  1  1  1  1 -1  0 -1  0 -1  1 -1  0 -1 -1 -1  0 -1 -1]\n",
            "  [ 0  0  1 -1 -1 -1 -1 -1 -1  0  1  0 -1  0  0  1 -1 -1  0]\n",
            "  [ 0  1  1  0  0  0 -1  0 -1  1  0  1  1  0  0  0  1 -1  0]\n",
            "  [ 0 -1  1 -1 -1 -1  1 -1  0  0  1  0  0  1  1  0  1 -1  0]\n",
            "  [ 0  0 -1  1  1  1  1  1  1  1  0  0 -1 -1  1  0  1  1 -1]\n",
            "  [-1 -1  0 -1  1  0  0  0 -1  1  0  0 -1  0 -1  1  1 -1  0]\n",
            "  [-1  1 -1 -1 -1 -1  0 -1  0 -1  1  0 -1  0 -1 -1 -1 -1 -1]\n",
            "  [ 1  0  1  1  1 -1  0  0  0  0 -1 -1 -1  0 -1  1  1 -1  1]\n",
            "  [ 0  1  0  0 -1  0  0  0  0  0  0 -1  1 -1  1  0  1  1  0]\n",
            "  [ 0  0  0  0  0  0  0  0  0  0  0  0  0  0  0 -1  0  1  1]]]\n"
          ],
          "name": "stdout"
        }
      ]
    },
    {
      "cell_type": "code",
      "metadata": {
        "id": "Xez7TS-XAS3h"
      },
      "source": [
        "# Get last baduk data of all game\n",
        "last_train_data = np.zeros( (num_train_data, 19,19) )\n",
        "\n",
        "for i in range(num_train_data):\n",
        "  temp_last_data = train_data[i][-1]\n",
        "  last_train_data[i, :, :] = temp_last_data"
      ],
      "execution_count": 8,
      "outputs": []
    },
    {
      "cell_type": "code",
      "metadata": {
        "id": "PYI_UzJdLlAb",
        "colab": {
          "base_uri": "https://localhost:8080/"
        },
        "outputId": "4e800a28-b67c-4713-bb61-73c839e152ac"
      },
      "source": [
        "# Print last_train_data shape and contents\n",
        "print(last_train_data.shape) # shape\n",
        "print(last_train_data[50]) # content of 50-th games"
      ],
      "execution_count": 9,
      "outputs": [
        {
          "output_type": "stream",
          "text": [
            "(2682, 19, 19)\n",
            "[[-1.  0. -1. -1.  0. -1.  0. -1.  0. -1.  0. -1. -1. -1. -1.  1.  0.  1.\n",
            "   0.]\n",
            " [-1.  0. -1.  0. -1. -1.  0. -1. -1. -1.  0. -1.  0. -1. -1.  1.  1.  1.\n",
            "   1.]\n",
            " [ 0. -1.  0. -1. -1. -1. -1.  0. -1. -1. -1.  0.  0. -1. -1.  1.  0.  1.\n",
            "   1.]\n",
            " [-1.  0. -1. -1.  0.  0. -1. -1.  0. -1. -1.  0. -1. -1. -1.  1.  1.  1.\n",
            "   1.]\n",
            " [-1. -1.  0. -1. -1. -1.  0. -1. -1. -1.  0. -1.  0. -1. -1. -1. -1.  1.\n",
            "  -1.]\n",
            " [ 0.  0. -1.  0. -1.  0. -1. -1. -1. -1. -1.  0.  0. -1. -1.  0. -1. -1.\n",
            "  -1.]\n",
            " [-1. -1. -1. -1. -1. -1. -1.  0. -1.  0. -1. -1. -1. -1.  0. -1.  1.  1.\n",
            "  -1.]\n",
            " [ 0. -1.  0. -1.  0. -1.  0. -1.  0. -1.  1.  1. -1.  0. -1.  1.  0.  1.\n",
            "   1.]\n",
            " [-1.  0. -1.  0. -1. -1. -1. -1. -1.  1.  0.  1. -1. -1.  1.  0.  1.  0.\n",
            "   1.]\n",
            " [ 0. -1. -1. -1. -1.  1.  1.  1. -1.  1.  1.  1.  1.  1.  0.  1.  0.  1.\n",
            "   1.]\n",
            " [-1. -1.  0. -1.  1. -1.  1.  1.  1.  1.  1.  1.  1.  1.  1.  0.  1.  1.\n",
            "   0.]\n",
            " [ 0. -1.  0. -1.  1.  0.  1.  1.  0.  1.  1.  1.  0.  1.  0.  1.  0.  1.\n",
            "   1.]\n",
            " [-1. -1. -1.  1.  0.  1.  1.  1.  1. -1.  1. -1.  1.  0.  1.  0.  1.  1.\n",
            "   1.]\n",
            " [-1.  0. -1.  1.  1.  0.  1. -1. -1. -1. -1.  0. -1.  1.  1.  1.  0.  1.\n",
            "   1.]\n",
            " [-1. -1.  1.  1.  1.  1. -1. -1. -1. -1. -1. -1. -1. -1.  1.  1.  1.  0.\n",
            "   1.]\n",
            " [-1. -1. -1. -1.  1.  1. -1. -1.  0. -1. -1. -1. -1. -1. -1.  1.  0.  1.\n",
            "   0.]\n",
            " [-1. -1. -1.  0. -1. -1.  0. -1. -1. -1. -1. -1. -1. -1.  1.  1.  1.  0.\n",
            "   1.]\n",
            " [ 0. -1. -1. -1. -1.  0.  0. -1.  0. -1. -1. -1. -1. -1.  1.  1.  0.  1.\n",
            "   0.]\n",
            " [-1.  0. -1. -1.  0. -1. -1.  0. -1.  0.  0. -1.  0. -1. -1.  1.  1.  0.\n",
            "   1.]]\n"
          ],
          "name": "stdout"
        }
      ]
    },
    {
      "cell_type": "code",
      "metadata": {
        "id": "kuvzlUTSMTR_",
        "colab": {
          "base_uri": "https://localhost:8080/"
        },
        "outputId": "3c010f4c-b64e-4719-f3f8-2e2a14367e20"
      },
      "source": [
        "# Prepare data for training SVM\n",
        "last_train_data = np.reshape(last_train_data,(num_train_data, 19*19))\n",
        "print(last_train_data.shape) # check shape of last_train_data"
      ],
      "execution_count": 10,
      "outputs": [
        {
          "output_type": "stream",
          "text": [
            "(2682, 361)\n"
          ],
          "name": "stdout"
        }
      ]
    },
    {
      "cell_type": "code",
      "metadata": {
        "id": "bkz6ssXPQFv0"
      },
      "source": [
        "# Prepare label for training SVM\n",
        "rating = ['18k', '17k', '16k', '15k', '14k', '13k', '12k', '11k', '10k', \n",
        "          '9k', '8k', '7k', '6k', '5k', '4k', '3k', '2k', '1k',\n",
        "          '1d', '2d', '3d', '4d', '5d', '6d', '7d', '8d', '9d']"
      ],
      "execution_count": 11,
      "outputs": []
    },
    {
      "cell_type": "code",
      "metadata": {
        "id": "o8sJeN95Q4_U"
      },
      "source": [
        "# Prepare label for training SVM (character rating to integer rating)\n",
        "train_label = np.zeros(num_train_data)\n",
        "for i in range(num_train_data):\n",
        "  train_label_temp = train_label_rawdata[i]\n",
        "  train_label_idx = rating.index(train_label_temp)\n",
        "  train_label[i] = train_label_idx"
      ],
      "execution_count": 12,
      "outputs": []
    },
    {
      "cell_type": "code",
      "metadata": {
        "id": "3i3Q-SjuSTMa",
        "colab": {
          "base_uri": "https://localhost:8080/"
        },
        "outputId": "6b981c28-9b9c-45df-cd0e-6a146153d8d7"
      },
      "source": [
        "print(sum(train_label==0)) # number of '18k' \n",
        "print(sum(train_label==26)) # number of '9d'"
      ],
      "execution_count": 13,
      "outputs": [
        {
          "output_type": "stream",
          "text": [
            "99\n",
            "100\n"
          ],
          "name": "stdout"
        }
      ]
    },
    {
      "cell_type": "markdown",
      "metadata": {
        "id": "-9ZJl9ZbT5MN"
      },
      "source": [
        "## Support Vector Machine"
      ]
    },
    {
      "cell_type": "code",
      "metadata": {
        "id": "T5ojm7IdMTXf",
        "colab": {
          "base_uri": "https://localhost:8080/"
        },
        "outputId": "b52ee037-5418-4e43-9815-5da947022b34"
      },
      "source": [
        "# Train SVM using training data and label (This part shoud be done by ML algorithm!) --> Key part! (학생 여러분들은 여기에 머신러닝 알고리즘을 구현하면 됩니다. 가장 중요한 부분입니다.)\n",
        "from sklearn.svm import LinearSVC\n",
        "clf = LinearSVC()\n",
        "clf.fit(last_train_data, train_label)"
      ],
      "execution_count": 14,
      "outputs": [
        {
          "output_type": "stream",
          "text": [
            "/usr/local/lib/python3.7/dist-packages/sklearn/svm/_base.py:947: ConvergenceWarning: Liblinear failed to converge, increase the number of iterations.\n",
            "  \"the number of iterations.\", ConvergenceWarning)\n"
          ],
          "name": "stderr"
        },
        {
          "output_type": "execute_result",
          "data": {
            "text/plain": [
              "LinearSVC(C=1.0, class_weight=None, dual=True, fit_intercept=True,\n",
              "          intercept_scaling=1, loss='squared_hinge', max_iter=1000,\n",
              "          multi_class='ovr', penalty='l2', random_state=None, tol=0.0001,\n",
              "          verbose=0)"
            ]
          },
          "metadata": {
            "tags": []
          },
          "execution_count": 14
        }
      ]
    },
    {
      "cell_type": "code",
      "metadata": {
        "id": "FEtVo84XMTb8"
      },
      "source": [
        "# Get test data\n",
        "test_data_path = \"/content/drive/Shareddrives/기계학습5조/colab_data/baduk/test_data.npy\"\n",
        "test_data = np.load(test_data_path, allow_pickle=True)"
      ],
      "execution_count": 15,
      "outputs": []
    },
    {
      "cell_type": "code",
      "metadata": {
        "id": "G6dHGtCZMTg3"
      },
      "source": [
        "# Get last test data\n",
        "num_test_data = len(test_data)\n",
        "\n",
        "last_test_data = np.zeros( (num_test_data, 19, 19) )\n",
        "\n",
        "for i in range(num_test_data):\n",
        "  temp_last_data = test_data[i][-1]\n",
        "  last_test_data[i, :, :] = temp_last_data\n",
        "\n",
        "last_test_data = np.reshape(last_test_data, (num_test_data, 19*19))"
      ],
      "execution_count": 16,
      "outputs": []
    },
    {
      "cell_type": "code",
      "metadata": {
        "id": "xYlAaHv3LlHn"
      },
      "source": [
        "# Predict test labels\n",
        "pred_test_label = clf.predict(last_test_data)"
      ],
      "execution_count": 17,
      "outputs": []
    },
    {
      "cell_type": "code",
      "metadata": {
        "id": "bthd7vH5acMG"
      },
      "source": [
        "# Get test labels (student does not have this ground-truth of test data)\n",
        "test_label_path = \"/content/drive/Shareddrives/기계학습5조/colab_data/baduk/test_label2.npy\"\n",
        "test_label_rawdata = np.load(test_label_path, allow_pickle=True)\n",
        "test_label = np.zeros(num_test_data)\n",
        "for i in range(num_test_data):\n",
        "  test_label_temp = test_label_rawdata[i]\n",
        "  test_label_idx = rating.index(test_label_temp)\n",
        "  test_label[i] = test_label_idx"
      ],
      "execution_count": 18,
      "outputs": []
    },
    {
      "cell_type": "code",
      "metadata": {
        "colab": {
          "base_uri": "https://localhost:8080/"
        },
        "id": "R9t7eKT_cbJO",
        "outputId": "0ef47505-a1f6-45fa-ab84-dfc40c80ead6"
      },
      "source": [
        "# Accuracy on test data with SVM (baseline accuracy is 1/26=0.384)\n",
        "print('Accuracy on test data: ' + str(sum(pred_test_label==test_label)/len(test_label)))"
      ],
      "execution_count": 19,
      "outputs": [
        {
          "output_type": "stream",
          "text": [
            "Accuracy on test data: 0.04498141263940521\n"
          ],
          "name": "stdout"
        }
      ]
    },
    {
      "cell_type": "markdown",
      "metadata": {
        "id": "6QGbmTHPUcT7"
      },
      "source": [
        "## XGBoost"
      ]
    },
    {
      "cell_type": "code",
      "metadata": {
        "colab": {
          "base_uri": "https://localhost:8080/"
        },
        "id": "tmNXbS8Id365",
        "outputId": "99037971-ba5d-4c8d-d523-89daf8e888d5"
      },
      "source": [
        "import xgboost\n",
        "\n",
        "print(xgboost.__version__)"
      ],
      "execution_count": 20,
      "outputs": [
        {
          "output_type": "stream",
          "text": [
            "0.90\n"
          ],
          "name": "stdout"
        }
      ]
    },
    {
      "cell_type": "code",
      "metadata": {
        "colab": {
          "base_uri": "https://localhost:8080/",
          "height": 35
        },
        "id": "N7dkfyr7dxnh",
        "outputId": "b515c3e9-e52a-4421-d4ab-00970254a4a2"
      },
      "source": [
        "from xgboost import XGBClassifier\n",
        "\n",
        "xgb_clf = XGBClassifier(n_estimators=500, learning_rate=0.05, random_state=156)\n",
        "xgb_clf.fit(last_train_data, train_label)"
      ],
      "execution_count": 27,
      "outputs": [
        {
          "output_type": "execute_result",
          "data": {
            "application/vnd.google.colaboratory.intrinsic+json": {
              "type": "string"
            },
            "text/plain": [
              "'\\nfrom xgboost import XGBClassifier\\n\\nxgb_clf = XGBClassifier(n_estimators=500, learning_rate=0.05, random_state=156)\\nxgb_clf.fit(last_train_data, train_label)\\n'"
            ]
          },
          "metadata": {
            "tags": []
          },
          "execution_count": 27
        }
      ]
    },
    {
      "cell_type": "code",
      "metadata": {
        "id": "s3m6jzNoXx-U"
      },
      "source": [
        "pred_test_label_xgb = xgb_clf.predict(last_test_data)"
      ],
      "execution_count": 29,
      "outputs": []
    },
    {
      "cell_type": "code",
      "metadata": {
        "id": "fjMZdFQEmeq_",
        "colab": {
          "base_uri": "https://localhost:8080/",
          "height": 35
        },
        "outputId": "061519d2-c5e9-45a4-d323-be884f436397"
      },
      "source": [
        "from sklearn.metrics import accuracy_score\n",
        "\n",
        "accuracy = accuracy_score(test_label, pred_test_label_xgb)\n",
        "print('정확도: {0}'.format(accuracy))"
      ],
      "execution_count": 28,
      "outputs": [
        {
          "output_type": "execute_result",
          "data": {
            "application/vnd.google.colaboratory.intrinsic+json": {
              "type": "string"
            },
            "text/plain": [
              "\"\\nfrom sklearn.metrics import accuracy_score\\n\\naccuracy = accuracy_score(test_label, pred_test_label_xgb)\\nprint('정확도: {0}'.format(accuracy))\\n\""
            ]
          },
          "metadata": {
            "tags": []
          },
          "execution_count": 28
        }
      ]
    },
    {
      "cell_type": "code",
      "metadata": {
        "id": "AlDv62jemkwY"
      },
      "source": [
        "from xgboost import plot_importance\n",
        "import matplotlib.pyplot as plt\n",
        "%matplotlib inline\n",
        "\n",
        "fig, ax = plt.subplots(figsize=(20, 54))\n",
        "plot_importance(xgb_clf, ax=ax)"
      ],
      "execution_count": null,
      "outputs": []
    },
    {
      "cell_type": "markdown",
      "metadata": {
        "id": "xpFD7Gda-A0Q"
      },
      "source": [
        "### hyperparameter tuning"
      ]
    },
    {
      "cell_type": "code",
      "metadata": {
        "id": "xZJ1GJ8S6d6h"
      },
      "source": [
        "# params = {'max_depth': [5, 7], 'min_child_weight': [1, 3], 'colsample_bytree':[0.5, 0.75]}"
      ],
      "execution_count": null,
      "outputs": []
    },
    {
      "cell_type": "code",
      "metadata": {
        "id": "p21ciZrw8HOO"
      },
      "source": [
        "'''\n",
        "from sklearn.model_selection import GridSearchCV\n",
        "\n",
        "gridcv = GridSearchCV(xgb_clf, param_grid=params, cv=3, refit=True)\n",
        "gridcv.fit(last_train_data, train_label)\n",
        "print('GridSearchCV 최적 파라미터:', gridcv.best_params_)\n",
        "print('GridSearchCV 최고 정확도:{0}'.format(gridcv.best_score_))\n",
        "'''\n",
        "\n",
        "# 최적 파라미터: {'colsample_bytree':0.75, 'max_depth': 5, 'min_child_weight':1}"
      ],
      "execution_count": null,
      "outputs": []
    },
    {
      "cell_type": "code",
      "metadata": {
        "colab": {
          "base_uri": "https://localhost:8080/"
        },
        "id": "v-BNT6Ax6SYW",
        "outputId": "2e7f5a2e-39cc-43f5-ca14-e4da053780bd"
      },
      "source": [
        "xgb_clf = XGBClassifier(n_estimators=100, learning_rate=0.1, random_state=156, max_depth=5, min_child_weight=1, colsample_bytree=0.75)\n",
        "xgb_clf.fit(last_train_data, train_label)"
      ],
      "execution_count": 24,
      "outputs": [
        {
          "output_type": "execute_result",
          "data": {
            "text/plain": [
              "XGBClassifier(base_score=0.5, booster='gbtree', colsample_bylevel=1,\n",
              "              colsample_bynode=1, colsample_bytree=0.75, gamma=0,\n",
              "              learning_rate=0.1, max_delta_step=0, max_depth=5,\n",
              "              min_child_weight=1, missing=None, n_estimators=100, n_jobs=1,\n",
              "              nthread=None, objective='multi:softprob', random_state=156,\n",
              "              reg_alpha=0, reg_lambda=1, scale_pos_weight=1, seed=None,\n",
              "              silent=None, subsample=1, verbosity=1)"
            ]
          },
          "metadata": {
            "tags": []
          },
          "execution_count": 24
        }
      ]
    },
    {
      "cell_type": "code",
      "metadata": {
        "colab": {
          "base_uri": "https://localhost:8080/"
        },
        "id": "jfMt5eA68NKv",
        "outputId": "5ab7b785-2904-47a0-d9c3-194ca7ae2c65"
      },
      "source": [
        "from sklearn.metrics import accuracy_score\n",
        "pred_test_label_xgb = xgb_clf.predict(last_test_data)\n",
        "\n",
        "accuracy = accuracy_score(test_label, pred_test_label_xgb)\n",
        "print('정확도: {}'.format(accuracy))"
      ],
      "execution_count": 25,
      "outputs": [
        {
          "output_type": "stream",
          "text": [
            "정확도: 0.07323420074349442\n"
          ],
          "name": "stdout"
        }
      ]
    },
    {
      "cell_type": "markdown",
      "metadata": {
        "id": "vRwqHfnsoItS"
      },
      "source": [
        "## LightGBM"
      ]
    },
    {
      "cell_type": "code",
      "metadata": {
        "id": "JGu7ChjOoFXy"
      },
      "source": [
        "from lightgbm import LGBMClassifier\n",
        "\n",
        "lgbm_clf = LGBMClassifier(n_estimator=100)\n",
        "\n",
        "lgbm_clf.fit(last_train_data, train_label)"
      ],
      "execution_count": null,
      "outputs": []
    },
    {
      "cell_type": "code",
      "metadata": {
        "id": "UgroYOL2oyOK"
      },
      "source": [
        "pred_test_label_lgbm = lgbm_clf.predict(last_test_data)"
      ],
      "execution_count": null,
      "outputs": []
    },
    {
      "cell_type": "code",
      "metadata": {
        "id": "qU87mjWqo99a"
      },
      "source": [
        "accuracy_lgbm = accuracy_score(test_label, pred_test_label_lgbm)\n",
        "print('정확도: {}'.format(accuracy_lgbm))"
      ],
      "execution_count": null,
      "outputs": []
    },
    {
      "cell_type": "markdown",
      "metadata": {
        "id": "VNls9f9J-Naf"
      },
      "source": [
        "## Stacking"
      ]
    },
    {
      "cell_type": "code",
      "metadata": {
        "id": "d_l6e4jx-WfZ"
      },
      "source": [
        "from sklearn.neighbors import KNeighborsClassifier\n",
        "from sklearn.ensemble import RandomForestClassifier\n",
        "from sklearn.ensemble import AdaBoostClassifier\n",
        "from sklearn.tree import DecisionTreeClassifier\n",
        "from sklearn.linear_model import LogisticRegression\n",
        "\n",
        "# 개별 ML 모델\n",
        "knn_clf = KNeighborsClassifier(n_neighbors=4)\n",
        "rf_clf = RandomForestClassifier(n_estimators=100, random_state=123)\n",
        "dt_clf = DecisionTreeClassifier()\n",
        "ada_clf = AdaBoostClassifier(n_estimators=100)\n",
        "\n",
        "# 메타 ML 모델\n",
        "lr_clf = LogisticRegression(C=10)\n"
      ],
      "execution_count": null,
      "outputs": []
    },
    {
      "cell_type": "code",
      "metadata": {
        "id": "T5F3cn3z_02O"
      },
      "source": [
        "knn_clf.fit(last_train_data, train_label)\n",
        "rf_clf.fit(last_train_data, train_label)\n",
        "dt_clf.fit(last_train_data, train_label)\n",
        "ada_clf.fit(last_train_data, train_label)"
      ],
      "execution_count": null,
      "outputs": []
    },
    {
      "cell_type": "code",
      "metadata": {
        "id": "2lxcyxMWAMKP"
      },
      "source": [
        "knn_pred = knn_clf.predict(last_test_data)\n",
        "rf_pred = rf_clf.predict(last_test_data)\n",
        "dt_pred = dt_clf.predict(last_test_data)\n",
        "ada_pred = ada_clf.predict(last_test_data)\n",
        "\n",
        "# 개별 모델 예측 정확도\n",
        "print('KNN 정확도: {}'.format(accuracy_score(test_label, knn_pred)))\n",
        "print('랜덤 포레스트 정확도: {}'.format(accuracy_score(test_label, rf_pred)))\n",
        "print('Decision Tree 정확도: {}'.format(accuracy_score(test_label, dt_pred)))\n",
        "print('Ada Boost 정확도: {}'.format(accuracy_score(test_label, ada_pred)))"
      ],
      "execution_count": null,
      "outputs": []
    },
    {
      "cell_type": "code",
      "metadata": {
        "id": "irtTTzmwD_Al"
      },
      "source": [
        "from sklearn.model_selection import KFold\n",
        "\n",
        "def create_dataset(model, X_train, y_train, X_test, n_folds):\n",
        "  kf = KFold(n_splits=n_folds, shuffle=False, random_state=0)\n",
        "\n",
        "  train_fold_pred = np.zeros((X_train.shape[0], 1))\n",
        "  test_pred = np.zeros((X_test.shape[0], n_folds))\n",
        "  print(model.__class__.__name__, ' model start ')\n",
        "\n",
        "  for cnt, (train_index, valid_index) in enumerate(kf.split(X_train)):\n",
        "    X_tr = X_train[train_index]\n",
        "    y_tr = y_train[train_index]\n",
        "    X_te = X_train[valid_index]\n",
        "\n",
        "    model.fit(X_tr, y_tr)\n",
        "    train_fold_pred[valid_index, :] = model.predict(X_te).reshape(-1, 1)\n",
        "    test_pred[:, cnt] = model.predict(X_test)\n",
        "\n",
        "  test_pred_mean = np.mean(test_pred, axis=1).reshape(-1, 1)\n",
        "  return train_fold_pred, test_pred_mean"
      ],
      "execution_count": null,
      "outputs": []
    },
    {
      "cell_type": "code",
      "metadata": {
        "id": "6BmI8qt6F_ok"
      },
      "source": [
        "knn_train, knn_test = create_dataset(knn_clf, last_train_data, train_label, last_test_data, 7)\n",
        "rf_train, rf_test = create_dataset(rf_clf, last_train_data, train_label, last_test_data, 7)\n",
        "dt_train, dt_test = create_dataset(dt_clf, last_train_data, train_label, last_test_data, 7)\n",
        "ada_train, ada_test = create_dataset(ada_clf, last_train_data, train_label, last_test_data, 7)"
      ],
      "execution_count": null,
      "outputs": []
    },
    {
      "cell_type": "code",
      "metadata": {
        "id": "fA5oqZK7Gt4E"
      },
      "source": [
        "final_X_train = np.concatenate((knn_train, rf_train, dt_train, ada_train), axis=1)\n",
        "final_X_test = np.concatenate((knn_test, rf_test, dt_test, ada_test), axis=1)\n",
        "\n",
        "lr_clf.fit(final_X_train, train_label)\n",
        "final = lr_clf.predict(final_X_test)\n",
        "\n",
        "print('최종 메타 모델의 예측 정확도: {}'.format(accuracy_score(test_label, final)))"
      ],
      "execution_count": null,
      "outputs": []
    },
    {
      "cell_type": "markdown",
      "metadata": {
        "id": "qHC4aY0DUNO3"
      },
      "source": [
        "## Foolish Support Vector Machine"
      ]
    },
    {
      "cell_type": "code",
      "metadata": {
        "id": "yA74J26-dQlz"
      },
      "source": [
        "# Train foolish SVM \n",
        "import random\n",
        "from sklearn.svm import LinearSVC\n",
        "\n",
        "train_label_foo = train_label\n",
        "random.shuffle(train_label_foo) # shuffle ground-truth labels!\n",
        "\n",
        "clf_foo = LinearSVC()\n",
        "clf_foo.fit(last_train_data, train_label_foo)\n",
        "pred_test_label_foo = clf_foo.predict(last_test_data)"
      ],
      "execution_count": null,
      "outputs": []
    },
    {
      "cell_type": "code",
      "metadata": {
        "id": "3zySUF1Xdlhy"
      },
      "source": [
        "# Accuracy on test data with foolish SVM (baseline accuracy is 1/26=0.384)\n",
        "print('Accuracy on test data: ' + str(sum(pred_test_label_foo==test_label)/len(test_label)))"
      ],
      "execution_count": null,
      "outputs": []
    }
  ]
}