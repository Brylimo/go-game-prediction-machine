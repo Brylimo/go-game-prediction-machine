{
  "nbformat": 4,
  "nbformat_minor": 0,
  "metadata": {
    "colab": {
      "name": "go-game-ranking-prediction-machine.ipynb",
      "provenance": [],
      "collapsed_sections": [],
      "toc_visible": true,
      "include_colab_link": true
    },
    "kernelspec": {
      "name": "python3",
      "display_name": "Python 3"
    },
    "language_info": {
      "name": "python"
    }
  },
  "cells": [
    {
      "cell_type": "markdown",
      "metadata": {
        "id": "view-in-github",
        "colab_type": "text"
      },
      "source": [
        "<a href=\"https://colab.research.google.com/github/Brylimo/go-game-ranking-prediction-machine/blob/master/go_game_ranking_prediction_machine.ipynb\" target=\"_parent\"><img src=\"https://colab.research.google.com/assets/colab-badge.svg\" alt=\"Open In Colab\"/></a>"
      ]
    },
    {
      "cell_type": "code",
      "metadata": {
        "colab": {
          "base_uri": "https://localhost:8080/"
        },
        "id": "Z1ekgDsG3f1t",
        "outputId": "e595823e-c91a-4160-bd21-02977c770c5f"
      },
      "source": [
        "import numpy as np\n",
        "from google.colab import drive\n",
        "\n",
        "#load train data and label\n",
        "drive.mount('/content/drive')\n",
        "train_data_path = \"/content/drive/Shareddrives/기계학습5조/colab_data/baduk/train_data.npy\" # Your train data file\n",
        "train_label_path = \"/content/drive/Shareddrives/기계학습5조/colab_data/baduk/train_label.npy\" # Your train label file\n",
        "\n",
        "train_data = np.load(train_data_path, allow_pickle=True)\n",
        "train_label_rawdata = np.load(train_label_path, allow_pickle=True)  \n",
        "\n",
        "num_train_data = len(train_data)"
      ],
      "execution_count": 30,
      "outputs": [
        {
          "output_type": "stream",
          "text": [
            "Drive already mounted at /content/drive; to attempt to forcibly remount, call drive.mount(\"/content/drive\", force_remount=True).\n"
          ],
          "name": "stdout"
        }
      ]
    },
    {
      "cell_type": "code",
      "metadata": {
        "colab": {
          "base_uri": "https://localhost:8080/"
        },
        "id": "zi_CRigwB1Ed",
        "outputId": "13ca04c6-91ad-4bc9-fdfc-8a2705a82caa"
      },
      "source": [
        "print(train_data.shape) # train_data is a list"
      ],
      "execution_count": 31,
      "outputs": [
        {
          "output_type": "stream",
          "text": [
            "(2682,)\n"
          ],
          "name": "stdout"
        }
      ]
    },
    {
      "cell_type": "code",
      "metadata": {
        "colab": {
          "base_uri": "https://localhost:8080/"
        },
        "id": "8FhEZ7YnAR-h",
        "outputId": "f9e78bc5-5ba3-4052-d9d8-59a098a19241"
      },
      "source": [
        "#check data shape\n",
        "print(len(train_data[0]))\n",
        "print(train_data[0][0].shape)"
      ],
      "execution_count": 32,
      "outputs": [
        {
          "output_type": "stream",
          "text": [
            "265\n",
            "(1, 19, 19)\n"
          ],
          "name": "stdout"
        }
      ]
    },
    {
      "cell_type": "code",
      "metadata": {
        "colab": {
          "base_uri": "https://localhost:8080/"
        },
        "id": "VOw8FCFHAFn9",
        "outputId": "ed25e1cf-8b35-408c-d4d6-8f39b52fefa8"
      },
      "source": [
        "print(len(train_data[1]))\n",
        "print(train_data[1][0].shape)"
      ],
      "execution_count": 33,
      "outputs": [
        {
          "output_type": "stream",
          "text": [
            "245\n",
            "(1, 19, 19)\n"
          ],
          "name": "stdout"
        }
      ]
    },
    {
      "cell_type": "code",
      "metadata": {
        "colab": {
          "base_uri": "https://localhost:8080/"
        },
        "id": "9q4L1DyqB8m5",
        "outputId": "d8341638-d002-4022-81a0-a6d46a9a3d6c"
      },
      "source": [
        "print(len(train_data[2]))\n",
        "print(train_data[2][0].shape)"
      ],
      "execution_count": 34,
      "outputs": [
        {
          "output_type": "stream",
          "text": [
            "246\n",
            "(1, 19, 19)\n"
          ],
          "name": "stdout"
        }
      ]
    },
    {
      "cell_type": "code",
      "metadata": {
        "id": "P-EJKtjVBqGa",
        "colab": {
          "base_uri": "https://localhost:8080/"
        },
        "outputId": "b552c857-29ab-47ac-f5f9-3d23044c36de"
      },
      "source": [
        "# Get last baduk data of first game (바둑경기 전체 수순에서 마지막 바둑판의 장면)\n",
        "teamp_last_data = train_data[0][-1]\n",
        "print(teamp_last_data) # 1 denotes a black stone. -1 denotes a white stone. 0 denotes an empty position."
      ],
      "execution_count": 35,
      "outputs": [
        {
          "output_type": "stream",
          "text": [
            "[[[ 0  0  0 -1  0  1  0  0  0  0  0  0 -1 -1 -1  1  1  0  1]\n",
            "  [ 0 -1 -1  0 -1  1 -1  1 -1 -1  0 -1  0 -1  0 -1  1  1  0]\n",
            "  [-1  0 -1 -1  1  0  1  1 -1  1 -1 -1 -1  0  0 -1  1 -1  1]\n",
            "  [ 0 -1  1  1  1  1  0  0 -1  1  1  1 -1 -1 -1  1  1 -1 -1]\n",
            "  [ 0  1  1  0  0  0  0  1 -1 -1  1  1  1  1  1  1 -1 -1  0]\n",
            "  [ 0  0  0  0  0  0  0  1  1 -1 -1  1  1 -1  1  1 -1 -1 -1]\n",
            "  [ 0  0  0  0  0  1  1 -1 -1  1 -1 -1 -1 -1  1  1  1 -1  0]\n",
            "  [ 0  0  0  0  0  1 -1  0 -1  0  1  1  0 -1 -1  1 -1  0 -1]\n",
            "  [ 0  0  1 -1 -1  1 -1  1 -1  1  0  1 -1  0  1 -1 -1  0  0]\n",
            "  [ 0  1  1  1  1 -1  0 -1  0 -1  1 -1  0 -1 -1 -1  0 -1 -1]\n",
            "  [ 0  0  1 -1 -1 -1 -1 -1 -1  0  1  0 -1  0  0  1 -1 -1  0]\n",
            "  [ 0  1  1  0  0  0 -1  0 -1  1  0  1  1  0  0  0  1 -1  0]\n",
            "  [ 0 -1  1 -1 -1 -1  1 -1  0  0  1  0  0  1  1  0  1 -1  0]\n",
            "  [ 0  0 -1  1  1  1  1  1  1  1  0  0 -1 -1  1  0  1  1 -1]\n",
            "  [-1 -1  0 -1  1  0  0  0 -1  1  0  0 -1  0 -1  1  1 -1  0]\n",
            "  [-1  1 -1 -1 -1 -1  0 -1  0 -1  1  0 -1  0 -1 -1 -1 -1 -1]\n",
            "  [ 1  0  1  1  1 -1  0  0  0  0 -1 -1 -1  0 -1  1  1 -1  1]\n",
            "  [ 0  1  0  0 -1  0  0  0  0  0  0 -1  1 -1  1  0  1  1  0]\n",
            "  [ 0  0  0  0  0  0  0  0  0  0  0  0  0  0  0 -1  0  1  1]]]\n"
          ],
          "name": "stdout"
        }
      ]
    },
    {
      "cell_type": "code",
      "metadata": {
        "id": "Xez7TS-XAS3h"
      },
      "source": [
        "# Get last baduk data of all game\n",
        "last_train_data = np.zeros( (num_train_data, 19,19) )\n",
        "\n",
        "for i in range(num_train_data):\n",
        "  temp_last_data = train_data[i][-1]\n",
        "  last_train_data[i, :, :] = temp_last_data"
      ],
      "execution_count": 36,
      "outputs": []
    },
    {
      "cell_type": "code",
      "metadata": {
        "id": "PYI_UzJdLlAb",
        "colab": {
          "base_uri": "https://localhost:8080/"
        },
        "outputId": "fa2a261d-8c06-45b7-e7f7-718debcd2e54"
      },
      "source": [
        "# Print last_train_data shape and contents\n",
        "print(last_train_data.shape) # shape\n",
        "print(last_train_data[50]) # content of 50-th games"
      ],
      "execution_count": 37,
      "outputs": [
        {
          "output_type": "stream",
          "text": [
            "(2682, 19, 19)\n",
            "[[-1.  0. -1. -1.  0. -1.  0. -1.  0. -1.  0. -1. -1. -1. -1.  1.  0.  1.\n",
            "   0.]\n",
            " [-1.  0. -1.  0. -1. -1.  0. -1. -1. -1.  0. -1.  0. -1. -1.  1.  1.  1.\n",
            "   1.]\n",
            " [ 0. -1.  0. -1. -1. -1. -1.  0. -1. -1. -1.  0.  0. -1. -1.  1.  0.  1.\n",
            "   1.]\n",
            " [-1.  0. -1. -1.  0.  0. -1. -1.  0. -1. -1.  0. -1. -1. -1.  1.  1.  1.\n",
            "   1.]\n",
            " [-1. -1.  0. -1. -1. -1.  0. -1. -1. -1.  0. -1.  0. -1. -1. -1. -1.  1.\n",
            "  -1.]\n",
            " [ 0.  0. -1.  0. -1.  0. -1. -1. -1. -1. -1.  0.  0. -1. -1.  0. -1. -1.\n",
            "  -1.]\n",
            " [-1. -1. -1. -1. -1. -1. -1.  0. -1.  0. -1. -1. -1. -1.  0. -1.  1.  1.\n",
            "  -1.]\n",
            " [ 0. -1.  0. -1.  0. -1.  0. -1.  0. -1.  1.  1. -1.  0. -1.  1.  0.  1.\n",
            "   1.]\n",
            " [-1.  0. -1.  0. -1. -1. -1. -1. -1.  1.  0.  1. -1. -1.  1.  0.  1.  0.\n",
            "   1.]\n",
            " [ 0. -1. -1. -1. -1.  1.  1.  1. -1.  1.  1.  1.  1.  1.  0.  1.  0.  1.\n",
            "   1.]\n",
            " [-1. -1.  0. -1.  1. -1.  1.  1.  1.  1.  1.  1.  1.  1.  1.  0.  1.  1.\n",
            "   0.]\n",
            " [ 0. -1.  0. -1.  1.  0.  1.  1.  0.  1.  1.  1.  0.  1.  0.  1.  0.  1.\n",
            "   1.]\n",
            " [-1. -1. -1.  1.  0.  1.  1.  1.  1. -1.  1. -1.  1.  0.  1.  0.  1.  1.\n",
            "   1.]\n",
            " [-1.  0. -1.  1.  1.  0.  1. -1. -1. -1. -1.  0. -1.  1.  1.  1.  0.  1.\n",
            "   1.]\n",
            " [-1. -1.  1.  1.  1.  1. -1. -1. -1. -1. -1. -1. -1. -1.  1.  1.  1.  0.\n",
            "   1.]\n",
            " [-1. -1. -1. -1.  1.  1. -1. -1.  0. -1. -1. -1. -1. -1. -1.  1.  0.  1.\n",
            "   0.]\n",
            " [-1. -1. -1.  0. -1. -1.  0. -1. -1. -1. -1. -1. -1. -1.  1.  1.  1.  0.\n",
            "   1.]\n",
            " [ 0. -1. -1. -1. -1.  0.  0. -1.  0. -1. -1. -1. -1. -1.  1.  1.  0.  1.\n",
            "   0.]\n",
            " [-1.  0. -1. -1.  0. -1. -1.  0. -1.  0.  0. -1.  0. -1. -1.  1.  1.  0.\n",
            "   1.]]\n"
          ],
          "name": "stdout"
        }
      ]
    },
    {
      "cell_type": "code",
      "metadata": {
        "colab": {
          "base_uri": "https://localhost:8080/"
        },
        "id": "kuvzlUTSMTR_",
        "outputId": "2ddfbc20-911a-4dd9-9525-b23db5eca8b3"
      },
      "source": [
        "# Prepare data for training SVM\n",
        "last_train_data = np.reshape(last_train_data,(num_train_data, 19*19))\n",
        "print(last_train_data.shape) # check shape of last_train_data"
      ],
      "execution_count": 38,
      "outputs": [
        {
          "output_type": "stream",
          "text": [
            "(2682, 361)\n"
          ],
          "name": "stdout"
        }
      ]
    },
    {
      "cell_type": "code",
      "metadata": {
        "id": "bkz6ssXPQFv0"
      },
      "source": [
        "# Prepare label for training SVM\n",
        "rating = ['18k', '17k', '16k', '15k', '14k', '13k', '12k', '11k', '10k', \n",
        "          '9k', '8k', '7k', '6k', '5k', '4k', '3k', '2k', '1k',\n",
        "          '1d', '2d', '3d', '4d', '5d', '6d', '7d', '8d', '9d']"
      ],
      "execution_count": 39,
      "outputs": []
    },
    {
      "cell_type": "code",
      "metadata": {
        "id": "o8sJeN95Q4_U"
      },
      "source": [
        "# Prepare label for training SVM (character rating to integer rating)\n",
        "train_label = np.zeros(num_train_data)\n",
        "for i in range(num_train_data):\n",
        "  train_label_temp = train_label_rawdata[i]\n",
        "  train_label_idx = rating.index(train_label_temp)\n",
        "  train_label[i] = train_label_idx"
      ],
      "execution_count": 40,
      "outputs": []
    },
    {
      "cell_type": "code",
      "metadata": {
        "colab": {
          "base_uri": "https://localhost:8080/"
        },
        "id": "3i3Q-SjuSTMa",
        "outputId": "1b202860-60fc-4f64-dc5d-b63d1e9f729b"
      },
      "source": [
        "print(sum(train_label==0)) # number of '18k' \n",
        "print(sum(train_label==26)) # number of '9d'"
      ],
      "execution_count": 41,
      "outputs": [
        {
          "output_type": "stream",
          "text": [
            "99\n",
            "100\n"
          ],
          "name": "stdout"
        }
      ]
    },
    {
      "cell_type": "code",
      "metadata": {
        "colab": {
          "base_uri": "https://localhost:8080/"
        },
        "id": "T5ojm7IdMTXf",
        "outputId": "8471f404-6b6f-4acf-8d56-2edf8dcecb7c"
      },
      "source": [
        "# Train SVM using training data and label (This part shoud be done by ML algorithm!) --> Key part! (학생 여러분들은 여기에 머신러닝 알고리즘을 구현하면 됩니다. 가장 중요한 부분입니다.)\n",
        "from sklearn.svm import LinearSVC\n",
        "clf = LinearSVC()\n",
        "clf.fit(last_train_data, train_label)"
      ],
      "execution_count": 42,
      "outputs": [
        {
          "output_type": "stream",
          "text": [
            "/usr/local/lib/python3.7/dist-packages/sklearn/svm/_base.py:947: ConvergenceWarning: Liblinear failed to converge, increase the number of iterations.\n",
            "  \"the number of iterations.\", ConvergenceWarning)\n"
          ],
          "name": "stderr"
        },
        {
          "output_type": "execute_result",
          "data": {
            "text/plain": [
              "LinearSVC(C=1.0, class_weight=None, dual=True, fit_intercept=True,\n",
              "          intercept_scaling=1, loss='squared_hinge', max_iter=1000,\n",
              "          multi_class='ovr', penalty='l2', random_state=None, tol=0.0001,\n",
              "          verbose=0)"
            ]
          },
          "metadata": {
            "tags": []
          },
          "execution_count": 42
        }
      ]
    },
    {
      "cell_type": "code",
      "metadata": {
        "id": "FEtVo84XMTb8"
      },
      "source": [
        "# Get test data\n",
        "test_data_path = \"/content/drive/Shareddrives/기계학습5조/colab_data/baduk/test_data.npy\"\n",
        "test_data = np.load(test_data_path, allow_pickle=True)"
      ],
      "execution_count": 45,
      "outputs": []
    },
    {
      "cell_type": "code",
      "metadata": {
        "id": "G6dHGtCZMTg3"
      },
      "source": [
        "# Get last test data\n",
        "num_test_data = len(test_data)\n",
        "\n",
        "last_test_data = np.zeros( (num_test_data, 19, 19) )\n",
        "\n",
        "for i in range(num_test_data):\n",
        "  temp_last_data = test_data[i][-1]\n",
        "  last_test_data[i, :, :] = temp_last_data\n",
        "\n",
        "last_test_data = np.reshape(last_test_data, (num_test_data, 19*19))"
      ],
      "execution_count": 46,
      "outputs": []
    },
    {
      "cell_type": "code",
      "metadata": {
        "id": "xYlAaHv3LlHn"
      },
      "source": [
        "# Predict test labels\n",
        "pred_test_label = clf.predict(last_test_data)"
      ],
      "execution_count": 27,
      "outputs": []
    },
    {
      "cell_type": "code",
      "metadata": {
        "id": "bthd7vH5acMG"
      },
      "source": [
        "# Get test labels (student does not have this ground-truth of test data)\n",
        "test_label_path = \"/content/drive/Shareddrives/기계학습5조/colab_data/baduk/test_label2.npy\"\n",
        "test_label_rawdata = np.load(test_label_path, allow_pickle=True)\n",
        "test_label = np.zeros(num_test_data)\n",
        "for i in range(num_test_data):\n",
        "  test_label_temp = test_label_rawdata[i]\n",
        "  test_label_idx = rating.index(test_label_temp)\n",
        "  test_label[i] = test_label_idx"
      ],
      "execution_count": 47,
      "outputs": []
    },
    {
      "cell_type": "code",
      "metadata": {
        "colab": {
          "base_uri": "https://localhost:8080/"
        },
        "id": "R9t7eKT_cbJO",
        "outputId": "a1093152-5d7a-4669-f199-c76a8237cf4d"
      },
      "source": [
        "# Accuracy on test data with SVM (baseline accuracy is 1/26=0.384)\n",
        "print('Accuracy on test data: ' + str(sum(pred_test_label==test_label)/len(test_label)))"
      ],
      "execution_count": 48,
      "outputs": [
        {
          "output_type": "stream",
          "text": [
            "Accuracy on test data: 0.046096654275092935\n"
          ],
          "name": "stdout"
        }
      ]
    },
    {
      "cell_type": "code",
      "metadata": {
        "colab": {
          "base_uri": "https://localhost:8080/"
        },
        "id": "yA74J26-dQlz",
        "outputId": "f45733a6-8b3b-4898-83aa-cb92fa945534"
      },
      "source": [
        "# Train foolish SVM \n",
        "import random\n",
        "from sklearn.svm import LinearSVC\n",
        "\n",
        "train_label_foo = train_label\n",
        "random.shuffle(train_label_foo) # shuffle ground-truth labels!\n",
        "\n",
        "clf_foo = LinearSVC()\n",
        "clf_foo.fit(last_train_data, train_label_foo)\n",
        "pred_test_label_foo = clf_foo.predict(last_test_data)"
      ],
      "execution_count": 49,
      "outputs": [
        {
          "output_type": "stream",
          "text": [
            "/usr/local/lib/python3.7/dist-packages/sklearn/svm/_base.py:947: ConvergenceWarning: Liblinear failed to converge, increase the number of iterations.\n",
            "  \"the number of iterations.\", ConvergenceWarning)\n"
          ],
          "name": "stderr"
        }
      ]
    },
    {
      "cell_type": "code",
      "metadata": {
        "colab": {
          "base_uri": "https://localhost:8080/"
        },
        "id": "3zySUF1Xdlhy",
        "outputId": "633d2b83-13c1-438a-eec4-83b6e08d0c6f"
      },
      "source": [
        "# Accuracy on test data with foolish SVM (baseline accuracy is 1/26=0.384)\n",
        "print('Accuracy on test data: ' + str(sum(pred_test_label_foo==test_label)/len(test_label)))"
      ],
      "execution_count": 50,
      "outputs": [
        {
          "output_type": "stream",
          "text": [
            "Accuracy on test data: 0.03494423791821561\n"
          ],
          "name": "stdout"
        }
      ]
    },
    {
      "cell_type": "code",
      "metadata": {
        "colab": {
          "base_uri": "https://localhost:8080/"
        },
        "id": "N7dkfyr7dxnh",
        "outputId": "6472a1d1-6751-471b-b1b4-7b4cbd727d68"
      },
      "source": [
        ""
      ],
      "execution_count": null,
      "outputs": [
        {
          "output_type": "stream",
          "text": [
            "Collecting pycryptodomex\n",
            "\u001b[?25l  Downloading https://files.pythonhosted.org/packages/82/e2/a0f9f5452a59bafaa3420585f22b58a8566c4717a88c139af2276bb5695d/pycryptodomex-3.10.1.tar.gz (3.8MB)\n",
            "\u001b[K     |████████████████████████████████| 3.8MB 4.2MB/s \n",
            "\u001b[?25hSkipping wheel build for pycryptodomex, due to binaries being disabled for it.\n",
            "Installing collected packages: pycryptodomex\n",
            "    Running setup.py install for pycryptodomex ... \u001b[?25l\u001b[?25hdone\n",
            "Successfully installed pycryptodomex-3.10.1\n"
          ],
          "name": "stdout"
        }
      ]
    },
    {
      "cell_type": "code",
      "metadata": {
        "id": "fjMZdFQEmeq_"
      },
      "source": [
        ""
      ],
      "execution_count": null,
      "outputs": []
    },
    {
      "cell_type": "code",
      "metadata": {
        "id": "AlDv62jemkwY"
      },
      "source": [
        ""
      ],
      "execution_count": null,
      "outputs": []
    },
    {
      "cell_type": "markdown",
      "metadata": {
        "id": "RhL6RaN3AElN"
      },
      "source": [
        "# 새 섹션"
      ]
    }
  ]
}